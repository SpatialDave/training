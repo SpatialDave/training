{
 "cells": [
  {
   "cell_type": "markdown",
   "id": "c10a1d38-e59b-4280-94a7-ae8c1d973365",
   "metadata": {},
   "source": [
    "# Python Training "
   ]
  },
  {
   "cell_type": "markdown",
   "id": "4020b610-2ee7-4f8a-bf99-72c0213027a1",
   "metadata": {},
   "source": [
    "## PIP"
   ]
  },
  {
   "cell_type": "markdown",
   "id": "b5b26d8a-5dfa-4ec7-acd8-c0acc2c06481",
   "metadata": {},
   "source": [
    "(preferred installer program)\n",
    "This is the tool we use to download and install our packages, it will go and get anything from PyPi which is the main repoistory for python packages. You'll see on intructions options for 'conda' and 'mamba' but these are different. You may also see Curl requests which are for Linux systems\n",
    "\n"
   ]
  },
  {
   "cell_type": "markdown",
   "id": "b4fc847c-9bc2-489c-84d8-a3d4f6281857",
   "metadata": {},
   "source": [
    "There is 2 ways of running PIP, both involve the command line. Who'd not used the command line before? "
   ]
  },
  {
   "cell_type": "markdown",
   "id": "72311374-8fba-4075-820f-e270090549b7",
   "metadata": {},
   "source": [
    "So you can either open a command line window or we can run directly from within Jupyter using the ! "
   ]
  },
  {
   "cell_type": "code",
   "execution_count": 3,
   "id": "59b87f47-035a-4be6-ba5e-7a565e98bf91",
   "metadata": {},
   "outputs": [
    {
     "name": "stdout",
     "output_type": "stream",
     "text": [
      "pip 21.2.4 from C:\\Users\\dchapman\\AppData\\Local\\Programs\\Python\\Python39\\lib\\site-packages\\pip (python 3.9)\n",
      "\n"
     ]
    }
   ],
   "source": [
    "!pip --version"
   ]
  },
  {
   "attachments": {
    "676b6f1f-a4bc-42e0-8df3-72b34f6445a7.png": {
     "image/png": "[encoded data removed]"
    }
   },
   "cell_type": "markdown",
   "id": "cf13993f-a4d5-4846-82fe-b29fdecba384",
   "metadata": {},
   "source": [
    "![image.png](attachment:676b6f1f-a4bc-42e0-8df3-72b34f6445a7.png)"
   ]
  },
  {
   "cell_type": "markdown",
   "id": "a5b6282c-77fe-413c-8434-724c557e2fe2",
   "metadata": {},
   "source": [
    "## Variables"
   ]
  },
  {
   "cell_type": "markdown",
   "id": "274656d1-b741-48e0-a059-aca9459371a7",
   "metadata": {},
   "source": [
    "Basically the name we gve something to then call it again in the future, so similar to a SQL alais "
   ]
  },
  {
   "cell_type": "code",
   "execution_count": null,
   "id": "1af5df12-4da3-4111-aadd-5a62040ef169",
   "metadata": {},
   "outputs": [],
   "source": [
    "text  = 'Hello world!'"
   ]
  },
  {
   "cell_type": "code",
   "execution_count": null,
   "id": "66f4a564-7f9e-427b-b354-43294353dab5",
   "metadata": {},
   "outputs": [],
   "source": [
    "print(text)"
   ]
  },
  {
   "cell_type": "code",
   "execution_count": null,
   "id": "8e888793-2313-4dc8-8c71-c516a2f028c0",
   "metadata": {},
   "outputs": [],
   "source": [
    "variable = 7+8/2"
   ]
  },
  {
   "cell_type": "code",
   "execution_count": null,
   "id": "85c42b51-ff72-4aa9-bde6-1c4a1e5c22a9",
   "metadata": {},
   "outputs": [],
   "source": [
    "variable"
   ]
  },
  {
   "cell_type": "markdown",
   "id": "a744197a-0458-4449-84dd-5ac4454dcd88",
   "metadata": {},
   "source": [
    "Key words appear in green. These are reserved for functions - similar to SQL with words like Create etc. "
   ]
  },
  {
   "cell_type": "markdown",
   "id": "c023580f-8143-4ae1-a427-ba1552417e81",
   "metadata": {},
   "source": [
    "## Lists "
   ]
  },
  {
   "cell_type": "markdown",
   "id": "dfcd068e-9642-4f7b-b7bb-6e818244d7c5",
   "metadata": {},
   "source": [
    "Our Variable becomes defined as a list when we assign it in the following way"
   ]
  },
  {
   "cell_type": "code",
   "execution_count": null,
   "id": "72f13a19-3599-4f53-9230-016e144c43e8",
   "metadata": {},
   "outputs": [],
   "source": [
    "list_example = ['hello', 'world']"
   ]
  },
  {
   "cell_type": "code",
   "execution_count": null,
   "id": "f286b9a8-31c0-4ff8-9d4d-948b8cfbcb44",
   "metadata": {},
   "outputs": [],
   "source": [
    "list_example"
   ]
  },
  {
   "cell_type": "markdown",
   "id": "547e5e54-e839-4710-b9f2-cea6a68204d2",
   "metadata": {},
   "source": [
    "You can slice lists "
   ]
  },
  {
   "cell_type": "code",
   "execution_count": null,
   "id": "48831b93-74b0-48f6-bdda-b087d4051fc5",
   "metadata": {},
   "outputs": [],
   "source": [
    "#What do you think this will return? \n",
    "list_example[1]"
   ]
  },
  {
   "cell_type": "code",
   "execution_count": null,
   "id": "7b9ff076-557f-43ee-8e49-1c9eebe2b3b9",
   "metadata": {},
   "outputs": [],
   "source": [
    "list_example.append('From Space')"
   ]
  },
  {
   "cell_type": "code",
   "execution_count": null,
   "id": "fd862986-78e6-406b-80ab-d1046c87d974",
   "metadata": {},
   "outputs": [],
   "source": [
    "list_example"
   ]
  },
  {
   "cell_type": "code",
   "execution_count": null,
   "id": "136bb08a-a879-4073-a057-03888a9af8ce",
   "metadata": {},
   "outputs": [],
   "source": [
    "list_example = ['hello', 'world']"
   ]
  },
  {
   "cell_type": "code",
   "execution_count": null,
   "id": "c0070e4f-db09-4b9c-8fcd-5e406440eaf5",
   "metadata": {},
   "outputs": [],
   "source": [
    "list_example = ['this', 'test']\n",
    "list_example = ['is', 'really']\n",
    "list_example = ['awesome', 'from', 'space']\n",
    "list_example = ['hello', 'world']"
   ]
  },
  {
   "cell_type": "code",
   "execution_count": null,
   "id": "1c41d206-a309-4966-9d91-fd73d61b151b",
   "metadata": {},
   "outputs": [],
   "source": [
    "list_example"
   ]
  },
  {
   "cell_type": "code",
   "execution_count": null,
   "id": "5df06a33-5243-48fc-a63a-61eec3f30e21",
   "metadata": {},
   "outputs": [],
   "source": [
    "list_example = ['this', 'test']\n",
    "print(list_example)\n",
    "list_example = ['is', 'really']\n",
    "print(list_example)\n",
    "list_example = ['awesome', 'from', 'space']\n",
    "print(list_example)\n",
    "list_example = ['hello', 'world']\n",
    "print(list_example)"
   ]
  },
  {
   "cell_type": "code",
   "execution_count": null,
   "id": "bc3b48a6-fba8-4737-b1ea-19f342cd70d3",
   "metadata": {},
   "outputs": [],
   "source": [
    "another_list = ['this', 'is', 'another', 'list']"
   ]
  },
  {
   "cell_type": "code",
   "execution_count": null,
   "id": "06d0a456-9baa-4691-ab3b-7153103b181e",
   "metadata": {},
   "outputs": [],
   "source": [
    "both_lists = list_example + another_list"
   ]
  },
  {
   "cell_type": "code",
   "execution_count": null,
   "id": "ed2088ef-6f90-4958-8d46-2af7d68f1d94",
   "metadata": {},
   "outputs": [],
   "source": [
    "both_lists"
   ]
  },
  {
   "cell_type": "code",
   "execution_count": null,
   "id": "4ad4791e-b240-45bf-b330-40632c3f8cbb",
   "metadata": {},
   "outputs": [],
   "source": [
    "num_list = [1,2,3,4,5]\n",
    "num_list_two = [6,7,8,9,10]"
   ]
  },
  {
   "cell_type": "code",
   "execution_count": null,
   "id": "16d07ad3-16dd-4b01-a547-c7cfc92c7ad1",
   "metadata": {},
   "outputs": [],
   "source": [
    "num_list"
   ]
  },
  {
   "cell_type": "code",
   "execution_count": null,
   "id": "ca9669c0-1f2c-41a8-9a04-7c20eb1b3b33",
   "metadata": {},
   "outputs": [],
   "source": [
    "#Any ideas of answer? \n",
    "num_list[1] + num_list_two[2]"
   ]
  },
  {
   "cell_type": "code",
   "execution_count": null,
   "id": "8ee9870b-cbf8-4f4c-bb67-24e82064fbd7",
   "metadata": {},
   "outputs": [],
   "source": [
    "another_list+num_list"
   ]
  },
  {
   "cell_type": "code",
   "execution_count": null,
   "id": "e390bf76-5cab-426b-a55e-927daf0f9c13",
   "metadata": {},
   "outputs": [],
   "source": [
    "num_list+num_list_two"
   ]
  },
  {
   "cell_type": "markdown",
   "id": "4edabe49-e727-47f0-8aae-cf89457ea461",
   "metadata": {},
   "source": [
    "## Data Formats "
   ]
  },
  {
   "cell_type": "code",
   "execution_count": null,
   "id": "018b9920-038a-4b46-9af9-a163d979e12e",
   "metadata": {},
   "outputs": [],
   "source": [
    "7 + 6"
   ]
  },
  {
   "cell_type": "code",
   "execution_count": null,
   "id": "312e338d-c7c1-4446-8296-b4c531a6eca6",
   "metadata": {},
   "outputs": [],
   "source": [
    "7.0+6.0"
   ]
  },
  {
   "cell_type": "code",
   "execution_count": null,
   "id": "ba68bf99-ae7f-49d9-a9f7-b10cf09c410c",
   "metadata": {},
   "outputs": [],
   "source": [
    "'7' + '6'"
   ]
  },
  {
   "cell_type": "code",
   "execution_count": null,
   "id": "8821f991-7350-4ca2-8321-9b3965d3cc1e",
   "metadata": {},
   "outputs": [],
   "source": [
    "num = 7 + 6\n",
    "print(type(num))"
   ]
  },
  {
   "cell_type": "code",
   "execution_count": null,
   "id": "92191371-4e00-4a66-9301-8101555e0ff4",
   "metadata": {},
   "outputs": [],
   "source": [
    "num = 7.0+6.0\n",
    "print(type(num))"
   ]
  },
  {
   "cell_type": "code",
   "execution_count": null,
   "id": "99e7aa47-7598-4dc2-8672-263d076533b9",
   "metadata": {},
   "outputs": [],
   "source": [
    "num = 7.0+6\n",
    "print(type(num))"
   ]
  },
  {
   "cell_type": "code",
   "execution_count": null,
   "id": "e037368a-ae54-4713-9729-76930a4947c5",
   "metadata": {},
   "outputs": [],
   "source": [
    "num = '7' + '6'\n",
    "print(type(num))"
   ]
  },
  {
   "cell_type": "markdown",
   "id": "c25ecb05-2f32-4962-ac91-ed1dcd6d3b07",
   "metadata": {},
   "source": [
    "## Dictionary"
   ]
  },
  {
   "cell_type": "code",
   "execution_count": null,
   "id": "ae448101-c5a0-45b0-8f78-2de02c59cf5c",
   "metadata": {},
   "outputs": [],
   "source": [
    "dictionary = {'blue': 1, 'yellow': 2, 'green': 3}"
   ]
  },
  {
   "cell_type": "code",
   "execution_count": null,
   "id": "37515517-fa7b-4be4-967e-3f11dd18ec9c",
   "metadata": {},
   "outputs": [],
   "source": [
    "dictionary"
   ]
  },
  {
   "cell_type": "code",
   "execution_count": null,
   "id": "055ab1f3-0693-4a26-84ba-a48dea6678ae",
   "metadata": {},
   "outputs": [],
   "source": [
    "dictionary['blue']"
   ]
  },
  {
   "cell_type": "code",
   "execution_count": null,
   "id": "5d169863-36d7-4a48-8260-7a8bb7ec8ce1",
   "metadata": {},
   "outputs": [],
   "source": [
    "dictionary = { 1:'blue', 2:'yellow', 3:'green'}"
   ]
  },
  {
   "cell_type": "code",
   "execution_count": null,
   "id": "217e4390-9188-4e44-aabe-950f5d0901f8",
   "metadata": {},
   "outputs": [],
   "source": [
    "dictionary[1]"
   ]
  },
  {
   "cell_type": "code",
   "execution_count": null,
   "id": "44e89555-6e87-4c06-b2ee-04d5a238006c",
   "metadata": {},
   "outputs": [],
   "source": [
    "topo = {'Road': 'osgb5000005190740843',  'Rail':'osgb1000000284550770', 'Bridge':'osgb1000000284550763','Road': 'osgb5000005190740856'}"
   ]
  },
  {
   "cell_type": "code",
   "execution_count": null,
   "id": "30571cdc-6a34-4839-af45-3312b319d44c",
   "metadata": {},
   "outputs": [],
   "source": [
    "if 'Road' in topo:\n",
    "    print('is in')\n",
    "else: \n",
    "    print('not in')"
   ]
  },
  {
   "cell_type": "code",
   "execution_count": null,
   "id": "3d51f419-f0d2-4f72-b999-2c2b1844e782",
   "metadata": {},
   "outputs": [],
   "source": [
    "print(topo['Road'])"
   ]
  },
  {
   "cell_type": "code",
   "execution_count": null,
   "id": "a8657623-a799-4458-9373-b97c3f13ce41",
   "metadata": {},
   "outputs": [],
   "source": [
    "topo = {'Road': 'osgb5000005190740843',  'Rail':'osgb1000000284550770', 'Bridge':'osgb1000000284550763'}"
   ]
  },
  {
   "cell_type": "code",
   "execution_count": null,
   "id": "2e401841-509e-41e6-8489-dcc2c624988e",
   "metadata": {},
   "outputs": [],
   "source": [
    "topo = {'Road': ['osgb5000005190740843', 'osgb5000005190740856'],  'Rail':'osgb1000000284550770', 'Bridge':'osgb1000000284550763'}"
   ]
  },
  {
   "cell_type": "markdown",
   "id": "51674970-f64a-489f-a834-80c40f294770",
   "metadata": {},
   "source": [
    "## Tuple"
   ]
  },
  {
   "cell_type": "code",
   "execution_count": null,
   "id": "80af12c0-7e9f-4fcf-a7e5-68d3b1d3dd99",
   "metadata": {},
   "outputs": [],
   "source": [
    "tuple1 = ('Road', 'Bridge', True, False, True, 1, 2, 3, '4')"
   ]
  },
  {
   "cell_type": "code",
   "execution_count": null,
   "id": "1d49b41f-c803-471b-89c7-96e6e9c3eb4d",
   "metadata": {},
   "outputs": [],
   "source": [
    "tuple1"
   ]
  },
  {
   "cell_type": "markdown",
   "id": "d2357420-f199-498d-b087-9205cc1a307c",
   "metadata": {},
   "source": [
    "### Slicing"
   ]
  },
  {
   "cell_type": "code",
   "execution_count": null,
   "id": "51df48a1-2b27-4fc8-8287-02e0f156a76d",
   "metadata": {},
   "outputs": [],
   "source": [
    "tuple1[2]"
   ]
  },
  {
   "cell_type": "code",
   "execution_count": null,
   "id": "98c50298-4096-4cfc-9791-28229ddc362b",
   "metadata": {},
   "outputs": [],
   "source": [
    "tuple1[:2]"
   ]
  },
  {
   "cell_type": "code",
   "execution_count": null,
   "id": "d3deb484-69ed-4608-a202-a176b07a4d07",
   "metadata": {},
   "outputs": [],
   "source": [
    "tuple1[2:]"
   ]
  },
  {
   "cell_type": "markdown",
   "id": "718e79c7-01ce-48df-96d2-bb4e7c2bcad3",
   "metadata": {},
   "source": [
    "## Loops"
   ]
  },
  {
   "cell_type": "markdown",
   "id": "dcc53a1f-b239-4239-8037-b0b896987036",
   "metadata": {},
   "source": [
    "Loops are a very common and useful tool in Python language \n",
    "\n",
    "There are 2 types: \n",
    "\n",
    "'for' loops and 'while' loops "
   ]
  },
  {
   "cell_type": "code",
   "execution_count": 5,
   "id": "dcb405d2-53bc-4e63-8fac-4778f772653f",
   "metadata": {},
   "outputs": [],
   "source": [
    "kitchen_items = [\n",
    "    \"Rice\", \"Chickpeas\", \"Pulses\", \"bread\", \"meat\",\n",
    "    \"Milk\", \"Bacon\", \"Eggs\", \"Rice Cooker\", \"Sauce\",\n",
    "    \"Chicken Pie\", \"Apple Pie\", \"Pudding\"\n",
    "]"
   ]
  },
  {
   "cell_type": "code",
   "execution_count": 6,
   "id": "193a3737-3f8e-4fab-9a14-7cec71bce821",
   "metadata": {},
   "outputs": [
    {
     "name": "stdout",
     "output_type": "stream",
     "text": [
      "Rice\n",
      "Chickpeas\n",
      "Pulses\n",
      "bread\n",
      "meat\n",
      "Milk\n",
      "Bacon\n",
      "Eggs\n",
      "Rice Cooker\n",
      "Sauce\n",
      "Chicken Pie\n",
      "Apple Pie\n",
      "Pudding\n"
     ]
    }
   ],
   "source": [
    "for item in kitchen_items:\n",
    "    print(item)"
   ]
  },
  {
   "cell_type": "code",
   "execution_count": 8,
   "id": "865680e0-29d0-453a-9862-700f44074d04",
   "metadata": {},
   "outputs": [
    {
     "name": "stdout",
     "output_type": "stream",
     "text": [
      "0\n",
      "1\n",
      "2\n",
      "3\n",
      "4\n"
     ]
    }
   ],
   "source": [
    "for num in range(5):\n",
    "    print(num)"
   ]
  },
  {
   "cell_type": "code",
   "execution_count": 12,
   "id": "d2faf353-2635-4da6-b33d-27068addd4ac",
   "metadata": {},
   "outputs": [
    {
     "name": "stdout",
     "output_type": "stream",
     "text": [
      "0\n",
      "1\n",
      "2\n",
      "3\n",
      "4\n"
     ]
    }
   ],
   "source": [
    "count = 0\n",
    "while count < 5:\n",
    "    print(count)\n",
    "    count += 1"
   ]
  },
  {
   "cell_type": "code",
   "execution_count": 16,
   "id": "3cbae45f-ffca-46f8-ad43-fc5fca431a37",
   "metadata": {},
   "outputs": [
    {
     "name": "stdout",
     "output_type": "stream",
     "text": [
      "0\n",
      "1\n",
      "2\n",
      "3\n",
      "4\n"
     ]
    }
   ],
   "source": [
    "# Prints out 0,1,2,3,4\n",
    "count = 0\n",
    "while True:\n",
    "    print(count)\n",
    "    count += 1\n",
    "    if count >= 5:\n",
    "        break"
   ]
  },
  {
   "cell_type": "code",
   "execution_count": null,
   "id": "b36f05e5-7a28-43e5-99ea-e84b1f403f94",
   "metadata": {},
   "outputs": [],
   "source": [
    "# Prints out only odd numbers - 1,3,5,7,9\n",
    "for x in range(10):\n",
    "    # Check if x is even\n",
    "    if x % 2 == 0:\n",
    "        continue\n",
    "    print(x)"
   ]
  },
  {
   "cell_type": "markdown",
   "id": "edf6937f-a4a3-46ad-92c4-3b9d8894e9a0",
   "metadata": {},
   "source": [
    "## Operators "
   ]
  },
  {
   "cell_type": "code",
   "execution_count": null,
   "id": "1d3bb44f-4a0a-4e60-aa80-3e862a9e131b",
   "metadata": {},
   "outputs": [],
   "source": [
    "Operator\tDescription\tSyntax\n",
    "+\t        Addition: adds two operands\t                                                       x + y\n",
    "–\t        Subtraction: subtracts two operands\t                                               x – y\n",
    "*\t        Multiplication: multiplies two operands                                            x * y\n",
    "/\t        Division (float): divides the first operand by the second\t                       x / y\n",
    "//\t        Division (floor): divides the first operand by the second\t                       x // y\n",
    "%\t        Modulus: returns the remainder when the first operand is divided by the second     x % y\n",
    "**\t        Power: Returns first raised to power second\t                                       x ** y"
   ]
  },
  {
   "cell_type": "code",
   "execution_count": null,
   "id": "9f47b2ba-3d18-4192-b603-7430aff75b30",
   "metadata": {},
   "outputs": [],
   "source": [
    "Operator\tDescription\tSyntax\n",
    ">\t        Greater than: True if the left operand is greater than the right\t                         x > y\n",
    "<\t        Less than: True if the left operand is less than the right\t                                 x < y\n",
    "==\t        Equal to: True if both operands are equal\t                                                 x == y\n",
    "!=\t        Not equal to – True if operands are not equal\t                                             x != y\n",
    ">=\t        Greater than or equal to True if the left operand is greater than or equal to the right\t     x >= y\n",
    "<=\t        Less than or equal to True if the left operand is less than or equal to the right\t         x <= y"
   ]
  },
  {
   "cell_type": "markdown",
   "id": "2d096f6d-2ac8-408b-8db0-a4748e71f108",
   "metadata": {},
   "source": [
    "## Indent"
   ]
  },
  {
   "cell_type": "markdown",
   "id": "02eb9343-39b7-4d8b-8753-fb2583d9032c",
   "metadata": {},
   "source": [
    "4 spaces or tab - NEVER both "
   ]
  },
  {
   "attachments": {
    "c2a63726-e615-4f4f-820b-3f513125f0e7.png": {
     "image/png": "[encoded data removed]"
    }
   },
   "cell_type": "markdown",
   "id": "59ac537d-8a5f-4120-8128-eccbdd2e5982",
   "metadata": {},
   "source": [
    "![tabspaces.png](attachment:c2a63726-e615-4f4f-820b-3f513125f0e7.png)"
   ]
  },
  {
   "cell_type": "code",
   "execution_count": null,
   "id": "7cb3ba0b-48f2-403d-a377-bbfa14972890",
   "metadata": {},
   "outputs": [],
   "source": [
    "if x in y: \n",
    "    print(x)\n"
   ]
  },
  {
   "cell_type": "code",
   "execution_count": null,
   "id": "3e6e1526-4b49-482e-8c1e-605fc7c6ac95",
   "metadata": {},
   "outputs": [],
   "source": []
  }
 ],
 "metadata": {
  "kernelspec": {
   "display_name": "Python 3 (ipykernel)",
   "language": "python",
   "name": "python3"
  },
  "language_info": {
   "codemirror_mode": {
    "name": "ipython",
    "version": 3
   },
   "file_extension": ".py",
   "mimetype": "text/x-python",
   "name": "python",
   "nbconvert_exporter": "python",
   "pygments_lexer": "ipython3",
   "version": "3.9.7"
  }
 },
 "nbformat": 4,
 "nbformat_minor": 5
}
